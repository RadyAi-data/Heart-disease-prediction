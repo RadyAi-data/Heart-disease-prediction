{
 "cells": [
  {
   "cell_type": "markdown",
   "id": "61232ef9",
   "metadata": {},
   "source": [
    "# Loading and prepping\n"
   ]
  },
  {
   "cell_type": "code",
   "execution_count": null,
   "id": "1b1243a1",
   "metadata": {},
   "outputs": [],
   "source": [
    "# Imports\n",
    "import pandas as pd\n",
    "from ucimlrepo import fetch_ucirepo\n",
    "# Libraries imported\""
   ]
  },
  {
   "cell_type": "code",
   "execution_count": null,
   "id": "3d890d4d",
   "metadata": {},
   "outputs": [],
   "source": [
    "# Fetch the Heart Disease dataset directly from the UCI repository\n",
    "heart_disease = fetch_ucirepo(id=45)\n",
    "# Separate the data into features (X) and target (y)\n",
    "X = heart_disease.data.features\n",
    "y = heart_disease.data.targets\n",
    "print(\"Data downloaded successfully!\")\n",
    "print(f\"Features shape: {X.shape}\")\n",
    "print(f\"Target shape: {y.shape}\")"
   ]
  },
  {
   "cell_type": "code",
   "execution_count": null,
   "id": "a8c1322c",
   "metadata": {},
   "outputs": [],
   "source": [
    "# Combine features and target into one single DataFrame\n",
    "df = pd.concat([X, y], axis=1)\n",
    "# Take a look at the data\n",
    "print(\"First 5 rows of the combined dataset:\")\n",
    "df.head()"
   ]
  },
  {
   "cell_type": "code",
   "execution_count": null,
   "id": "03f4c208",
   "metadata": {},
   "outputs": [],
   "source": [
    "# Check the original target values\n",
    "print(\"Original 'num' (target) value counts:\")\n",
    "print(df['num'].value_counts().sort_index())\n",
    "\n",
    "# Convert to binary: 0 = No Heart Disease | 1 = Heart Disease\n",
    "df['target'] = (df['num'] > 0).astype(int)\n",
    "# Remove the old 'num' column\n",
    "df.drop('num', axis=1, inplace=True)\n",
    "\n",
    "print(\"\\nTarget cleaned and converted to binary\")\n",
    "print(\"New 'target' value counts:\")\n",
    "print(df['target'].value_counts())"
   ]
  },
  {
   "cell_type": "code",
   "execution_count": null,
   "id": "0bc65f45",
   "metadata": {},
   "outputs": [],
   "source": [
    "# Perform a final check\n",
    "print(f\"Final dataset shape: {df.shape}\")\n",
    "print(\"\\nMissing values in each column:\")\n",
    "print(df.isnull().sum())\n",
    "\n",
    "# Save the cleaned dataset to the data folder\n",
    "df.to_csv('../data/heart_disease.csv', index=False)\n",
    "print(\"\\nCleaned dataset saved to '../data/heart_disease.csv'\")"
   ]
  },
  {
   "cell_type": "code",
   "execution_count": null,
   "id": "8453069c",
   "metadata": {},
   "outputs": [],
   "source": [
    "# Handle missing values by filling them with the median (for numerical features)\n",
    "# 'ca' and 'thal' are numerical, so we use median\n",
    "df['ca'].fillna(df['ca'].median(), inplace=True)\n",
    "df['thal'].fillna(df['thal'].median(), inplace=True)\n",
    "\n",
    "# Verify that no missing values remain\n",
    "print(\"Missing values after cleaning:\")\n",
    "print(df.isnull().sum())\n",
    "\n",
    "# Save the FINAL cleaned dataset\n",
    "df.to_csv('../data/heart_disease.csv', index=False)\n",
    "print(\"\\nFINAL cleaned dataset saved\")"
   ]
  }
 ],
 "metadata": {
  "kernelspec": {
   "display_name": "Python 3",
   "language": "python",
   "name": "python3"
  },
  "language_info": {
   "codemirror_mode": {
    "name": "ipython",
    "version": 3
   },
   "file_extension": ".py",
   "mimetype": "text/x-python",
   "name": "python",
   "nbconvert_exporter": "python",
   "pygments_lexer": "ipython3",
   "version": "3.13.5"
  }
 },
 "nbformat": 4,
 "nbformat_minor": 5
}
